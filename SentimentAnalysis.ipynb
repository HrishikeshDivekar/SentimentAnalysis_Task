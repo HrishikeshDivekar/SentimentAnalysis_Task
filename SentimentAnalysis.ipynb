{
 "cells": [
  {
   "cell_type": "code",
   "execution_count": null,
   "id": "fed7345b",
   "metadata": {},
   "outputs": [],
   "source": [
    "import pandas as pd\n",
    "from sklearn.feature_extraction.text import TfidfVectorizer\n",
    "from sklearn.linear_model import LogisticRegression\n",
    "from sklearn.model_selection import train_test_split\n",
    "from sklearn.metrics import accuracy_score, classification_report, confusion_matrix"
   ]
  },
  {
   "cell_type": "code",
   "execution_count": null,
   "id": "92268ddf",
   "metadata": {},
   "outputs": [],
   "source": [
    "'''1. Load Data'''\n",
    "data = {\n",
    "    'review': [\n",
    "        \"This product is amazing! I love it.\",\n",
    "        \"Absolutely terrible experience, very disappointed.\",\n",
    "        \"It's okay, not great but not bad either.\",\n",
    "        \"Highly recommend this, works perfectly.\",\n",
    "        \"Worst purchase ever, completely useless.\",\n",
    "        \"Good value for money, satisfied with the quality.\",\n",
    "        \"The service was slow and unhelpful.\",\n",
    "        \"Fantastic! Exceeded my expectations.\",\n",
    "        \"Could be better, some features are missing.\",\n",
    "        \"Very happy with my new gadget, simple to use.\"\n",
    "    ],\n",
    "    'sentiment': [\n",
    "        'positive',\n",
    "        'negative',\n",
    "        'neutral',\n",
    "        'positive',\n",
    "        'negative',\n",
    "        'positive',\n",
    "        'negative',\n",
    "        'positive',\n",
    "        'neutral',\n",
    "        'positive'\n",
    "    ]\n",
    "}\n",
    "df = pd.DataFrame(data)\n",
    "\n",
    "print(\"--- Dataset Overview ---\")\n",
    "print(\"Sample Customer Reviews:\")\n",
    "print(df.head())\n",
    "print(f\"\\nTotal reviews: {len(df)}\")\n",
    "print(\"\\nSentiment Distribution:\")\n",
    "print(df['sentiment'].value_counts())\n",
    "\n",
    "sentiment_mapping = {'negative': 0, 'neutral': 1, 'positive': 2}\n",
    "df['sentiment_encoded'] = df['sentiment'].map(sentiment_mapping)\n",
    "\n",
    "X = df['review']\n",
    "y = df['sentiment_encoded']\n",
    "\n",
    "tfidf_vectorizer = TfidfVectorizer(max_features=1000, stop_words='english')\n",
    "\n",
    "X_vectorized = tfidf_vectorizer.fit_transform(X)\n",
    "\n",
    "print(\"\\n--- TF-IDF Vectorization ---\")\n",
    "print(f\"Shape of vectorized data: {X_vectorized.shape}\")\n",
    "# print(f\"Number of unique words (features) extracted: {len(tfidf_vectorizer.get_feature names_out())}\")\n",
    "\n",
    "X_train, X_test, y_train, y_test = train_test_split(X_vectorized, y, test_size=0.3, random_state=42, stratify=y)\n",
    "\n",
    "print(\"\\n--- Data Split ---\")\n",
    "print(f\"Training set shape: {X_train.shape}\")\n",
    "print(f\"Testing set shape: {X_test.shape}\")"
   ]
  },
  {
   "cell_type": "code",
   "execution_count": null,
   "id": "ea50b93a",
   "metadata": {},
   "outputs": [],
   "source": [
    "'''4. Train Logistic Regression Model'''\n",
    "model = LogisticRegression(max_iter=1000, random_state=42)\n",
    "\n",
    "print(\"\\n--- Model Training ---\")\n",
    "model.fit(X_train, y_train)\n",
    "\n",
    "print(\"Logistic Regression Model Trained Successfully!\")\n",
    "print(f\"Model parameters: {model.get_params()}\")"
   ]
  },
  {
   "cell_type": "code",
   "execution_count": null,
   "id": "82189ccc",
   "metadata": {},
   "outputs": [],
   "source": [
    "'''5. Make Predictions'''\n",
    "y_pred = model.predict(X_test)\n",
    "\n",
    "print(\"\\n--- Predictions ---\")\n",
    "print(\"Sample Predictions vs. Actual values (encoded):\")\n",
    "predictions_df = pd.DataFrame({'Actual_Encoded': y_test.reset_index(drop=True), 'Predicted_Encoded': y_pred})\n",
    "print(predictions_df)\n",
    "\n",
    "reverse_sentiment_mapping = {v: k for k, v in sentiment_mapping.items()}\n",
    "predictions_df['Actual_Sentiment'] = predictions_df['Actual_Encoded'].map(reverse_sentiment_mapping)\n",
    "predictions_df['Predicted_Sentiment'] = predictions_df['Predicted_Encoded'].map(reverse_sentiment_mapping)\n",
    "print(\"\\nSample Predictions vs. Actual values (Sentiment Labels):\")\n",
    "print(predictions_df[['Actual_Sentiment', 'Predicted_Sentiment']])"
   ]
  },
  {
   "cell_type": "code",
   "execution_count": null,
   "id": "a2dcceeb",
   "metadata": {},
   "outputs": [],
   "source": [
    "'''6. Evaluate Model'''\n",
    "print(\"\\n--- Model Evaluation ---\")\n",
    "\n",
    "accuracy = accuracy_score(y_test, y_pred)\n",
    "print(f\"Model Accuracy: {accuracy:.4f}\")\n",
    "\n",
    "class_report = classification_report(y_test, y_pred, target_names=sentiment_mapping.keys())\n",
    "print(\"\\nClassification Report:\\n\", class_report)\n",
    "\n",
    "conf_matrix = confusion_matrix(y_test, y_pred)\n",
    "print(\"Confusion Matrix:\\n\", conf_matrix)\n",
    "print(\"\\nInterpretation of Confusion Matrix:\")\n",
    "print(f\"Rows: Actual classes ({list(sentiment_mapping.keys())[0]}, {list(sentiment_mapping.keys())[1]}, {list(sentiment_mapping.keys())[2]})\")\n",
    "print(f\"Columns: Predicted classes ({list(sentiment_mapping.keys())[0]}, {list(sentiment_mapping.keys())[1]}, {list(sentiment_mapping.keys())[2]})\")\n"
   ]
  }
 ],
 "metadata": {
  "kernelspec": {
   "display_name": "xoder",
   "language": "python",
   "name": "python3"
  },
  "language_info": {
   "codemirror_mode": {
    "name": "ipython",
    "version": 3
   },
   "file_extension": ".py",
   "mimetype": "text/x-python",
   "name": "python",
   "nbconvert_exporter": "python",
   "pygments_lexer": "ipython3",
   "version": "3.12.11"
  }
 },
 "nbformat": 4,
 "nbformat_minor": 5
}
